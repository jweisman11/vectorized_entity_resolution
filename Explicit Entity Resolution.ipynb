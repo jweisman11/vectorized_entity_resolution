{
 "cells": [
  {
   "cell_type": "markdown",
   "metadata": {},
   "source": [
    "# Explicit Entity Resolution: A Short Example"
   ]
  },
  {
   "cell_type": "markdown",
   "metadata": {},
   "source": [
    "This short excercise is meant to show the ways in which explicit entity resolution is costly and not effective with larger datasets.  For an equal comparison, we will compare the same fields and assess the total potential time needed to resolve the entire dataset. "
   ]
  },
  {
   "cell_type": "code",
   "execution_count": null,
   "metadata": {},
   "outputs": [],
   "source": [
    "import pandas as pd\n",
    "from sklearn.feature_extraction.text import TfidfVectorizer\n",
    "import numpy as np\n",
    "from sklearn.metrics.pairwise import cosine_similarity, pairwise_kernels\n",
    "from scipy import sparse\n",
    "import numpy as np\n",
    "from sklearn.preprocessing import normalize\n",
    "import seaborn as sns\n",
    "import matplotlib.pyplot as plt\n",
    "from nltk.metrics.distance import jaro_winkler_similarity\n",
    "import time\n",
    "import dask\n",
    "%matplotlib inline"
   ]
  },
  {
   "cell_type": "code",
   "execution_count": null,
   "metadata": {},
   "outputs": [],
   "source": [
    "data = pd.read_csv(r'Albums.csv')\n",
    "data['all'] = data['title'].astype(str) + data['length'].astype(str) + data['artist'].astype(str) + data['album'].astype(str) + data['language'].astype(str)\n",
    "data.head()"
   ]
  },
  {
   "cell_type": "markdown",
   "metadata": {},
   "source": [
    "## Illustration: String Comparison with an Explicit For Loop"
   ]
  },
  {
   "cell_type": "code",
   "execution_count": null,
   "metadata": {},
   "outputs": [],
   "source": [
    "song_list = data['all'].tolist()\n",
    "start = time.time()\n",
    "score_list = []\n",
    "for i in range(len(song_list)):\n",
    "    score_list.append(jaro_winkler_similarity(song_list[i], song_list[0]))\n",
    "print('Total time required to compare one song with all other songs {} Seconds'.format((time.time()-start)))\n",
    "print('Total estimated time to compute similarities {} hours'.format(((time.time()-start)*len(data))/60/60))"
   ]
  },
  {
   "cell_type": "markdown",
   "metadata": {},
   "source": [
    "## Illustration: String Comparison with For Loop Parrellized with Dask "
   ]
  },
  {
   "cell_type": "code",
   "execution_count": null,
   "metadata": {},
   "outputs": [],
   "source": [
    "def score_string_holdout(record_list, index_holdout):\n",
    "    score_list = []\n",
    "    \n",
    "    for i in range(len(record_list)):\n",
    "        score_list.append(jaro_winkler_similarity(record_list[i], record_list[index_holdout]))\n",
    "    return score_list\n",
    "compute = dask.delayed(score_string_holdout)(data['all'].tolist(),0)\n",
    "start = time.time()\n",
    "score_list = compute.compute()\n",
    "print('Total time required to compare one song with all other songs {} Seconds'.format((time.time()-start)))\n",
    "print('Total estimated time to compute similarities {} hours'.format(((time.time()-start)*len(data))/60/60))"
   ]
  },
  {
   "cell_type": "code",
   "execution_count": null,
   "metadata": {},
   "outputs": [],
   "source": [
    "np.argsort(score_list)[-5:]"
   ]
  },
  {
   "cell_type": "code",
   "execution_count": null,
   "metadata": {},
   "outputs": [],
   "source": [
    "score_list[3978], score_list[0]"
   ]
  },
  {
   "cell_type": "code",
   "execution_count": null,
   "metadata": {},
   "outputs": [],
   "source": [
    "data['all'].tolist()[3978], data['all'].tolist()[0]"
   ]
  },
  {
   "cell_type": "code",
   "execution_count": null,
   "metadata": {},
   "outputs": [],
   "source": []
  }
 ],
 "metadata": {
  "kernelspec": {
   "display_name": "Python 3",
   "language": "python",
   "name": "python3"
  },
  "language_info": {
   "codemirror_mode": {
    "name": "ipython",
    "version": 3
   },
   "file_extension": ".py",
   "mimetype": "text/x-python",
   "name": "python",
   "nbconvert_exporter": "python",
   "pygments_lexer": "ipython3",
   "version": "3.8.1"
  }
 },
 "nbformat": 4,
 "nbformat_minor": 4
}
